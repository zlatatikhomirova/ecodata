{
  "nbformat": 4,
  "nbformat_minor": 0,
  "metadata": {
    "colab": {
      "provenance": [],
      "collapsed_sections": [
        "4dYRkGshfbDf"
      ]
    },
    "kernelspec": {
      "name": "python3",
      "display_name": "Python 3"
    },
    "language_info": {
      "name": "python"
    }
  },
  "cells": [
    {
      "cell_type": "markdown",
      "source": [
        "## Импорт библиотек"
      ],
      "metadata": {
        "id": "_ze-tmkm4WXg"
      }
    },
    {
      "cell_type": "code",
      "source": [
        "import os\n",
        "import cv2\n",
        "import numpy as np\n",
        "import matplotlib.pyplot as plt"
      ],
      "metadata": {
        "id": "hU7qI2c24bsd"
      },
      "execution_count": 1,
      "outputs": []
    },
    {
      "cell_type": "markdown",
      "source": [
        "## Важные переменные"
      ],
      "metadata": {
        "id": "GosDB2Kc4cmW"
      }
    },
    {
      "cell_type": "code",
      "execution_count": 2,
      "metadata": {
        "id": "ORDdIdjCxh1e"
      },
      "outputs": [],
      "source": [
        "img_folder = '/content/drive/MyDrive/ecodata/elm'\n",
        "img_names = os.listdir(img_folder)"
      ]
    },
    {
      "cell_type": "markdown",
      "source": [
        "## Pipeline решения\n",
        "1. Загрузка изображения (grayscale + rgb).\n",
        "2. Бинаризация.\n",
        "3. Убираем жилки и шум (erode/dilate).\n",
        "4. Ищем контуры.\n",
        "5. Сохраняем только нужные контуры (контуры эталонов-ограничителей и листьев). Для каждого контура получаем минимальный по площади ограничивающий прямоугольник. Находим эталоны так: сравниваем отношение площадей контуров и минимальных по площади ограничивающих прямоугольников или просто по размеру смотрим (в пределах 120px). Сохраняем контуры листьев и эталонов отдельно.\n",
        "6. Сортируем контуры листьев и контуры эталонов отдельно (посторочно).\n",
        "7. Фиксируем площади эталонов (или прямоугольников для них ???), ищем среднюю длину $\\frac{1}{n}\\sum_{i=0}^n \\sqrt{S_{\\text{rect}}} $, округляем к ближайшему целому. Вводим константу **FIRST_STANDARD_1mm**, которая равна средней длине стороны квадратного эталона на исходной фотографии, деленной на 10.\n",
        "\n",
        "Для каждого листа\n",
        "1. Вырезаем контуры по ограничивающему прямоугольнику $M$. Всё, что внутри $M$, но вне контура листа, закрашиваем в белый, чтобы стало меньше шума. Накладываем полученный прямоугольник на квадратную матрицу $B = 255 A_{n \\times n \\times 3}$, $n = max(h, w) + k$, где $A$ --- трехмерный тензор, заполненный единицами $h, w$ --- длина и ширина изображения соответственно, $k$ --- внутренний отступ от границы bounding box'а до границы новой матрицы.\n",
        "2. Поворачиваем $M$ так, чтобы угол нижней стороны и оси X был равен 0. Сохраняем полученное изображение.\n",
        "\n",
        "Нам нужно будет перемещаться между размерами, можно хранить размеры до ресайза и после него, фотку, айди контура.\n",
        "\n",
        "В преобразованной фотке нам надо будет выделить жилки, повернуть листочек, чтобы он был посерединке (аппроксимировать главную жилку и сделать её перпендикулярной оси X). После этого нужно найти основные характеристики листа и посчитать их в мм.\n",
        "\n",
        "Пока надо просто получить хотя бы одну такую фотку.\n",
        "\n",
        "\n",
        "<!-- <ol>\n",
        "<li> sad</li>\n",
        "<li> sab\n",
        "  <ol>\n",
        "  <li> sd</li>\n",
        "  </ol>\n",
        " </li>\n",
        "</ol> -->"
      ],
      "metadata": {
        "id": "gF-YsjsK4w8F"
      }
    },
    {
      "cell_type": "markdown",
      "source": [
        "**TODO:**\n",
        "1. Настроить порядок отображения листов.\n",
        "2. Сделать подсветку листа.\n",
        "3. Выводить информацию о порядковом номере листа.\n",
        "4. Делать легенду с отображением текущего масштаба.\n",
        "5. ПОКА НЕ НАДО, но может пригодиться для нейронки. Применяем resize: преобразуем изображение к размеру $512 \\times 512$. Сохраняем все такие изображения в отдельную папку.\n",
        "```\n",
        "    # # 5. Изменение размера изображения\n",
        "    # resized_img = cv2.resize(white_background,\n",
        "        output_size,\n",
        "        interpolation=cv2.INTER_AREA)  # Используем INTER_AREA для уменьшения\n",
        "```\n",
        "6. Запоминаем масштаб: делим длину и ширину $M$ на **FIRST_STANDARD_1mm**, получаем длину и ширину прямоугольника $M$ в миллиметрах."
      ],
      "metadata": {
        "id": "kEItXCrt_oOc"
      }
    },
    {
      "cell_type": "code",
      "source": [],
      "metadata": {
        "id": "f-aVsz7V_n3G"
      },
      "execution_count": 2,
      "outputs": []
    },
    {
      "cell_type": "markdown",
      "source": [
        "## Функции"
      ],
      "metadata": {
        "id": "aod8_x_nIxTi"
      }
    },
    {
      "cell_type": "code",
      "source": [
        "def erode_dilate_loop(img):\n",
        "  structuring_element = cv2.getStructuringElement(cv2.MORPH_RECT, (5, 5))\n",
        "  eroded_image = None\n",
        "\n",
        "  for _ in range(4):\n",
        "    eroded_image = cv2.erode(img, structuring_element, iterations=1)\n",
        "    eroded_image = cv2.dilate(eroded_image, structuring_element, iterations=1)\n",
        "\n",
        "  return eroded_image"
      ],
      "metadata": {
        "id": "p8ua1_6m4uyo"
      },
      "execution_count": 3,
      "outputs": []
    },
    {
      "cell_type": "code",
      "source": [
        "# import cv2\n",
        "# import numpy as np\n",
        "\n",
        "# def box_to_contour(box):\n",
        "#     \"\"\"\n",
        "#     Converts a bounding box representation to a contour.\n",
        "\n",
        "#     Args:\n",
        "#         box: A list or tuple representing the bounding box.  It can be represented\n",
        "#              in different formats:\n",
        "#              - (x, y, width, height)  (standard OpenCV bounding box format)\n",
        "#              - ((x1, y1), (x2, y2))  (top-left and bottom-right points)\n",
        "#              - [(x1, y1), (x2, y2), (x3, y3), (x4, y4)] (four corner points)\n",
        "\n",
        "#     Returns:\n",
        "#         A NumPy array representing the contour.\n",
        "#     \"\"\"\n",
        "\n",
        "#     # Check the format of the box and convert it to four corner points\n",
        "#     if len(box) == 4 and isinstance(box[0], (int, float)):  # (x, y, width, height)\n",
        "#         x, y, w, h = box\n",
        "#         pts = np.array([[x, y], [x+w, y], [x+w, y+h], [x, y+h]], np.int32)\n",
        "#     elif len(box) == 2 and isinstance(box[0], (tuple, list)) and len(box[0]) == 2 and isinstance(box[0][0], (int, float)): # ((x1, y1), (x2, y2))\n",
        "#         (x1, y1), (x2, y2) = box\n",
        "#         pts = np.array([[x1, y1], [x2, y1], [x2, y2], [x1, y2]], np.int32)\n",
        "#     elif len(box) == 4 and isinstance(box[0], (tuple, list)) and len(box[0]) == 2 and isinstance(box[0][0], (int, float)): # [(x1, y1), (x2, y2), (x3, y3), (x4, y4)]\n",
        "#         pts = np.array(box, np.int32)\n",
        "#     else:\n",
        "#         raise ValueError(\"Invalid box format.  Supported formats are: (x, y, width, height), ((x1, y1), (x2, y2)), or [(x1, y1), (x2, y2), (x3, y3), (x4, y4)]\")\n",
        "\n",
        "\n",
        "#     # Reshape the points to the correct format for contours\n",
        "#     pts = pts.reshape((-1, 1, 2))  # (Number of points, 1, 2)\n",
        "#     return pts\n",
        "\n",
        "# # Example usage:\n",
        "# if __name__ == '__main__':\n",
        "#     # Create a sample image (for demonstration)\n",
        "#     img = np.zeros((200, 300, 3), dtype=np.uint8)  # Black image\n",
        "\n",
        "#     # Example 1: (x, y, width, height) format\n",
        "#     box1 = (50, 50, 100, 80)\n",
        "#     contour1 = box_to_contour(box1)\n",
        "#     cv2.drawContours(img, [contour1], -1, (0, 255, 0), 2)  # Draw a green rectangle\n",
        "\n",
        "#     # Example 2: ((x1, y1), (x2, y2)) format\n",
        "#     box2 = ((20, 30), (80, 100))\n",
        "#     contour2 = box_to_contour(box2)\n",
        "#     cv2.drawContours(img, [contour2], -1, (255, 0, 0), 2)  # Draw a blue rectangle\n",
        "\n",
        "#     # Example 3:  [(x1, y1), (x2, y2), (x3, y3), (x4, y4)] format\n",
        "#     box3 = [(150, 20), (250, 20), (250, 100), (150, 100)]\n",
        "#     contour3 = box_to_contour(box3)\n",
        "#     cv2.drawContours(img, [contour3], -1, (255, 255, 0), 2)  # Draw a cyan rectangle\n",
        "\n",
        "\n",
        "\n",
        "#     # Display the image\n",
        "#     plt.imshow(img)"
      ],
      "metadata": {
        "id": "ifYQ3M_2iylK"
      },
      "execution_count": 4,
      "outputs": []
    },
    {
      "cell_type": "code",
      "source": [
        "def bounding_rect_to_contour(rect):\n",
        "    x, y, w, h = rect\n",
        "    pts = np.array([[x, y], [x+w, y], [x+w, y+h], [x, y+h]], np.int32)\n",
        "    pts = pts.reshape((-1, 1, 2))\n",
        "    return pts\n"
      ],
      "metadata": {
        "id": "Jsi6adUZkOsZ"
      },
      "execution_count": 5,
      "outputs": []
    },
    {
      "cell_type": "code",
      "source": [
        "def load_image_rgb_grayscale(img_path):\n",
        "  elm_img = cv2.imread(img_path)\n",
        "  elm_img_rgb = cv2.cvtColor(elm_img, cv2.COLOR_BGR2RGB)\n",
        "  elm_img_gray = cv2.cvtColor(elm_img, cv2.COLOR_BGR2GRAY)\n",
        "  return elm_img_rgb, elm_img_gray\n",
        "\n",
        "def binarize(img):\n",
        "  _, thresh1 = cv2.threshold(img, 200, 255, cv2.THRESH_BINARY)\n",
        "  return thresh1\n",
        "\n",
        "def compute_standards_side(areas):\n",
        "  return sum([area ** 0.5 for area in areas]) / len(areas)\n",
        "\n",
        "def filter_contours_n_bboxes(contours, side_threshold=100, std_threshold=500):\n",
        "  # откинуть мелочь\n",
        "  # найти эталоны\n",
        "  # откинуть крупные\n",
        "  # реализуем идею со сравнением площади внутри контура и площади minAreaRect\n",
        "  areas_diffs = []\n",
        "  widths = []\n",
        "  for i, c in enumerate(contours):\n",
        "    box = cv2.boundingRect(c)\n",
        "    if box[2] >= side_threshold and box[3] >= side_threshold:\n",
        "        width = box[2]\n",
        "        box = bounding_rect_to_contour(box)\n",
        "        rect = cv2.minAreaRect(c)\n",
        "        area1 = cv2.contourArea(c)\n",
        "        area2 = rect[1][0] * rect[1][1]  # Width * Height\n",
        "        diff = abs(area1-area2)\n",
        "        areas_diffs.append((diff, i, area1, width, box))\n",
        "\n",
        "  areas_diffs.sort()\n",
        "  _, idxs, areas, widths, boxes = zip(*areas_diffs)\n",
        "  # print(areas_diffs, standard_idxs)\n",
        "  # print(standard_idxs, len(boxes), len(contours))\n",
        "  # print(*areas_diffs, sep='\\n')\n",
        "  standards_areas = areas[:4]\n",
        "  standards =  [(boxes[i], contours[j]) for i, j in enumerate(idxs[:4])]\n",
        "  standards_mean_side_mm = round(compute_standards_side(standards_areas)) / 10\n",
        "  idxs, widths, boxes = zip(*sorted(zip(idxs[4:], widths[4:], boxes[4:]), key=lambda x: x[1]))\n",
        "\n",
        "  for i in range(len(widths)-1, 0, -1):\n",
        "    if int(widths[i] // widths[i-1]) >= 3:\n",
        "    #   print(widths[i] , widths[i-1] , widths)\n",
        "      crop_idx = i\n",
        "    #   print('crop_idx', crop_idx)\n",
        "      break\n",
        "\n",
        "  leaves = [(boxes[i], contours[j]) for i, j in enumerate(idxs)]\n",
        "  if crop_idx:\n",
        "    leaves = leaves[:crop_idx]\n",
        "\n",
        "  return standards, leaves, standards_mean_side_mm"
      ],
      "metadata": {
        "id": "azb7HH4OBD5q"
      },
      "execution_count": 6,
      "outputs": []
    },
    {
      "cell_type": "code",
      "source": [],
      "metadata": {
        "id": "NKO5Swjx9jVZ"
      },
      "execution_count": 6,
      "outputs": []
    },
    {
      "cell_type": "code",
      "source": [
        "# по идее берем каждый bbox и смотрим центроид, через него проводим линию и ищем соседей\n",
        "# когда нашли соседей, то говорим, что у них тоже есть сосед\n",
        "# у каждого соседа есть имя - его исходный индекс в списке\n",
        "# потом соседей внутри группы сортируем по центроиду\n",
        "\n",
        "# def find_neighbours(bboxes, centroids):\n",
        "#     neighbours = dict([((centroid, i), set()) for i, centroid in enumerate(centroids)])\n",
        "#     for i, centroid1 in enumerate(centroids):\n",
        "#         # box[0][point_idx: i from [1; 4], 0, x:0 or y:1]\n",
        "#         # для строки в матрице строка изменяется от y_min до y_max\n",
        "#         # а столбец от x_min до x_max\n",
        "\n",
        "#         # y1 = centroid y\n",
        "#         # if y_min <= y1 <= y_max: - neighbour\n",
        "#         y1 = centroid1[1]\n",
        "#         for j, (bbox2, centroid2) in enumerate(zip(bboxes, centroids)):\n",
        "#             if i == j:\n",
        "#                 continue\n",
        "\n",
        "#             x_min, y_max = bbox2[0][0]\n",
        "#             x_max, y_min = bbox2[2][0]\n",
        "#             print('x', x_min,  x_max)\n",
        "#             print('y', y_max, y_min)\n",
        "#             print('centroid', x1, y1)\n",
        "#             if y_min <= y1 <= y_max:\n",
        "#                 neighbours[(centroid1, i)].add((centroid2, j))\n",
        "#                 neighbours[(centroid2, j)].add((centroid1, i))\n",
        "#     print(neighbours)\n",
        "#     print(*list(zip(bboxes, centroids)), sep='\\n')\n",
        "#     return neighbours\n",
        "\n",
        "def sort_neighbours(neighbours):\n",
        "    neighbours_sorted = []\n",
        "    for k, v in neighbours.items():\n",
        "        neighbours_sorted.append(sorted(list(v), key=lambda x: x[0][0]))\n",
        "    print('nns1', neighbours_sorted)\n",
        "    neighbours_sorted.sort(key=lambda x: max(x, key=lambda y: y[0][0]))\n",
        "    print('nns2', neighbours_sorted)\n",
        "    return neighbours_sorted\n",
        "\n",
        "def bboxes_to_centroids(bboxes):\n",
        "    centroids = []\n",
        "    for box in bboxes:\n",
        "        M = cv2.moments(box)\n",
        "        cx = int(M['m10']/M['m00'])\n",
        "        cy = int(M['m01']/M['m00'])\n",
        "        centroids.append((cx, cy))\n",
        "    return centroids"
      ],
      "metadata": {
        "id": "dpOrjguwtnZ0"
      },
      "execution_count": 7,
      "outputs": []
    },
    {
      "cell_type": "code",
      "source": [
        "def find_neighbours_groups(bboxes, centroids, img=None, visualize=False, no_duplicates=True):\n",
        "    neighbours = dict([((centroid, i), set()) for i, centroid in enumerate(centroids)])\n",
        "    visited = {a: False for a in neighbours.keys()}\n",
        "    colors = [(255, 165, 0), (200, 120, 170), (128, 0, 128), (0, 100, 0), (0, 0, 139), (128, 128, 0)]\n",
        "    if visualize:\n",
        "        fin = img.copy()\n",
        "    cnt = 0\n",
        "    for i, (bbox1, centroid1) in enumerate(zip(bboxes, centroids)):\n",
        "        # box[0][point_idx: i from [1; 4], 0, x:0 or y:1]\n",
        "        # для строки в матрице строка изменяется от y_min до y_max\n",
        "        # а столбец от x_min до x_max\n",
        "\n",
        "        # y1 = centroid y\n",
        "        # if y_min <= y1 <= y_max: - neighbour\n",
        "        y1 = centroid1[1]\n",
        "        if visualize:\n",
        "            prefin = fin.copy()\n",
        "        for j, (bbox2, centroid2) in enumerate(zip(bboxes, centroids)):\n",
        "            if i == j or (centroid1, i) in neighbours[(centroid2, j)] or visited[(centroid2, j)]:\n",
        "                continue\n",
        "            if no_duplicates and visited[(centroid1, i)]:\n",
        "                continue\n",
        "            x_min, y_min = bbox2[0][0]\n",
        "            x_max, y_max = bbox2[2][0]\n",
        "            if visualize:\n",
        "                prefin = cv2.circle(prefin, centroid1, radius=20, color=(0, 0, 255), thickness=-1)\n",
        "                tmp1 = prefin.copy()\n",
        "                tmp1 = cv2.drawContours(tmp1, [bbox2], -1, (255, 0, 0), 5)\n",
        "                tmp1 = cv2.circle(tmp1, centroid2, radius=20, color=(255, 0, 0), thickness=-1)\n",
        "                plt.imshow(tmp1)\n",
        "                plt.show()\n",
        "\n",
        "\n",
        "\n",
        "                print(f'upper left corner: x={x_min}, y={y_min}')\n",
        "                print(f'lower right cornert: x={x_max}, y={y_max}')\n",
        "                print('centroid', *centroid1)\n",
        "                # print(y_min, y1, y_max, y_min <= y1,  y1 <= y_max)\n",
        "            if y_min <= y1 and  y1 <= y_max:\n",
        "                if no_duplicates:\n",
        "                    visited[(centroid2, j)] = True\n",
        "                if visualize:\n",
        "                    prefin = cv2.drawContours(prefin, [bbox2], -1, colors[cnt], 5)\n",
        "                    prefin = cv2.circle(prefin, centroid2, radius=20, color=colors[cnt], thickness=-1)\n",
        "                    # print('NEIGHBOUR!')\n",
        "                    plt.imshow(cv2.putText(prefin.copy(), 'NEIGHBOUR!', (100, 200), cv2.FONT_HERSHEY_SIMPLEX, 5, (255, 0, 0), 2, cv2.LINE_AA))\n",
        "                    plt.show()\n",
        "                neighbours[(centroid1, i)].add((centroid2, j))\n",
        "                neighbours[(centroid2, j)].add((centroid1, i))\n",
        "        if no_duplicates:\n",
        "            if visited[(centroid1, i)]:\n",
        "                continue\n",
        "            visited[(centroid1, i)] = True\n",
        "\n",
        "        if visualize:\n",
        "            prefin = cv2.circle(prefin, centroid1, radius=20, color=colors[cnt], thickness=-1)\n",
        "            prefin = cv2.drawContours(prefin, [bbox1], -1, colors[cnt], 5)\n",
        "            cnt += 1\n",
        "            fin = prefin.copy()\n",
        "            plt.imshow(prefin)\n",
        "            plt.show()\n",
        "    # print(neighbours)\n",
        "    # print(*list(zip(bboxes, centroids)), sep='\\n')\n",
        "    return neighbours"
      ],
      "metadata": {
        "id": "jKiErKyIFnB9"
      },
      "execution_count": 28,
      "outputs": []
    },
    {
      "cell_type": "code",
      "source": [
        "from copy import deepcopy"
      ],
      "metadata": {
        "id": "e6_pdUnCejgF"
      },
      "execution_count": 9,
      "outputs": []
    },
    {
      "cell_type": "code",
      "source": [
        "def reduce_neighbours_groups(neighbours_groups):\n",
        "    new_neighbours_groups = deepcopy(neighbours_groups)\n",
        "    # print('init', new_neighbours_groups)\n",
        "    for root, neighbours in neighbours_groups.items():\n",
        "        root_neighbours = new_neighbours_groups.get(root, None)\n",
        "        # print('root', root)\n",
        "        # print('root_neighbours', root_neighbours)\n",
        "        # print('neighbours', neighbours)\n",
        "        if root_neighbours == None:\n",
        "            continue\n",
        "        for neighbour in neighbours:\n",
        "            # print('neighbour', neighbour)\n",
        "            neighbour_neighbours = new_neighbours_groups.get(neighbour, None)\n",
        "            # print('neighbour neighbours', neighbour_neighbours)\n",
        "            if neighbour_neighbours == None:\n",
        "                continue\n",
        "            if len(root_neighbours) <= len(neighbour_neighbours):\n",
        "                # print('len(root_neighbours) <= len(neighbour_neighbours)', len(root_neighbours), len(neighbour_neighbours))\n",
        "                new_neighbours_groups.pop(root)\n",
        "                # print('nng after pop', new_neighbours_groups)\n",
        "                break\n",
        "    return new_neighbours_groups\n",
        "            # new_neighbours_groups.pop(neighbour)\n",
        "\n",
        ""
      ],
      "metadata": {
        "id": "25q65IcZbf49"
      },
      "execution_count": 31,
      "outputs": []
    },
    {
      "cell_type": "code",
      "source": [
        "def get_indexes_of_sorted_bboxes(bboxes):\n",
        "    centroids = bboxes_to_centroids(bboxes)\n",
        "    neighbours_sorted = find_neighbours_groups(bboxes, centroids)\n",
        "    # neighbours_sorted = sort_neighbours(neighbours)\n",
        "    idxs = []\n",
        "    for k, group in neighbours_sorted.items():\n",
        "        # [((cx11, cy21), 0), ((cx12, cy22), 1), ...]\n",
        "        for (centroid, i) in group:\n",
        "            idxs.append(i)\n",
        "    return idxs\n"
      ],
      "metadata": {
        "id": "VMytbHRFEeYz"
      },
      "execution_count": 14,
      "outputs": []
    },
    {
      "cell_type": "code",
      "source": [
        "def sort_bboxes_n_contours_left_to_right_get_bboxes(contours, bboxes):\n",
        "    # Сортируем контуры по координате X верхнего левого угла ограничивающего прямоугольника (слева направо)\n",
        "    # находим соседей bbox'а в отсортированном порядке\n",
        "    # (contours, bboxes) = zip(*sorted(zip(contours, bboxes),\n",
        "    #                                         key=lambda b: b[0][0, 0, 1],  # b[1][0] - это x координата\n",
        "    #                                         reverse=False))  # reverse=False для порядка слева направо\n",
        "\n",
        "    idxs = get_indexes_of_sorted_bboxes(bboxes)\n",
        "    bboxes = [bboxes[i] for i in idxs]\n",
        "    contours = [contours[i] for i in idxs]\n",
        "\n",
        "    return contours, bboxes"
      ],
      "metadata": {
        "id": "zSmfHmH8IAN3"
      },
      "execution_count": 15,
      "outputs": []
    },
    {
      "cell_type": "code",
      "source": [
        "def fill_outside_contour(img, contour):\n",
        "    mask = np.zeros(img.shape[:2], dtype=np.uint8)\n",
        "    mask = cv2.drawContours(mask, [contour], -1, 255, cv2.FILLED)\n",
        "    mask_inv = cv2.bitwise_not(mask)\n",
        "    white_background = np.full(img.shape, (255, 255, 255), dtype=np.uint8)\n",
        "    masked_img = cv2.bitwise_and(img, img, mask=mask)\n",
        "    masked_background = cv2.bitwise_and(white_background, white_background, mask=mask_inv)\n",
        "    result = cv2.bitwise_or(masked_img, masked_background)\n",
        "    return result"
      ],
      "metadata": {
        "id": "YXOuMGHqeCDc"
      },
      "execution_count": 16,
      "outputs": []
    },
    {
      "cell_type": "code",
      "source": [
        "def crop_add_to_matrix_with_contour_transform(img, x1, y1, x2, y2, contour, padding=100):\n",
        "    cropped_img = img[y1:y2, x1:x2]\n",
        "    transformed_contour = contour.copy()\n",
        "    transformed_contour[:, :, 0] -= x1\n",
        "    transformed_contour[:, :, 1] -= y1\n",
        "\n",
        "    cropped_img = fill_outside_contour(cropped_img, transformed_contour)\n",
        "\n",
        "    height, width = cropped_img.shape[:2]\n",
        "    max_dim = max(height, width) + padding\n",
        "\n",
        "    white_background = np.full((max_dim, max_dim, 3), 255, dtype=np.uint8)\n",
        "    x_offset = (max_dim - width) // 2\n",
        "    y_offset = (max_dim - height) // 2\n",
        "    white_background[y_offset:y_offset + height,\n",
        "                     x_offset:x_offset + width] = cropped_img\n",
        "\n",
        "    transformed_contour[:, :, 0] += x_offset\n",
        "    transformed_contour[:, :, 1] += y_offset\n",
        "\n",
        "    return white_background, transformed_contour"
      ],
      "metadata": {
        "id": "kZCXTluuM3jt"
      },
      "execution_count": 17,
      "outputs": []
    },
    {
      "cell_type": "code",
      "source": [
        "# def rotate_image_and_fill(img, contour):\n",
        "#     rect = cv2.minAreaRect(contour)\n",
        "#     center, (width, height), angle = rect\n",
        "\n",
        "#     rot_mat = cv2.getRotationMatrix2D(center, angle, 1.0)\n",
        "#     rows, cols = img.shape[:2]\n",
        "#     new_img = cv2.warpAffine(img,\n",
        "#                              rot_mat,\n",
        "#                              (rows, cols),\n",
        "#                              flags=cv2.INTER_LINEAR,\n",
        "#                              borderMode=cv2.BORDER_CONSTANT,\n",
        "#                              borderValue=(255, 255, 255))\n",
        "\n",
        "#     return new_img"
      ],
      "metadata": {
        "id": "UR8tnJXebeNw"
      },
      "execution_count": null,
      "outputs": []
    },
    {
      "cell_type": "code",
      "source": [
        "def rgb_to_bgr(img):\n",
        "    return cv2.cvtColor(tmp, cv2.COLOR_RGB2BGR)"
      ],
      "metadata": {
        "id": "303rb0tpDmKP"
      },
      "execution_count": 18,
      "outputs": []
    },
    {
      "cell_type": "markdown",
      "source": [
        "## Черновики"
      ],
      "metadata": {
        "id": "4dYRkGshfbDf"
      }
    },
    {
      "cell_type": "code",
      "source": [
        "# def load_image_rgb_grayscale(img_path):\n",
        "#   elm_img = cv2.imread(img_path)\n",
        "#   elm_img_rgb = cv2.cvtColor(elm_img, cv2.COLOR_BGR2RGB)\n",
        "#   elm_img_gray = cv2.cvtColor(elm_img, cv2.COLOR_BGR2GRAY)\n",
        "#   return elm_img_rgb, elm_img_gray\n",
        "\n",
        "# def binarize(img):\n",
        "#   _, thresh1 = cv2.threshold(img, 200, 255, cv2.THRESH_BINARY)\n",
        "#   return thresh1\n",
        "\n",
        "# def compute_standards_side(areas):\n",
        "#   return sum([area ** 0.5 for area in areas]) / len(areas)\n",
        "\n",
        "# def filter_contours_n_bboxes(contours, side_threshold=100, std_threshold=500):\n",
        "#   boxes = []\n",
        "#   cs = []\n",
        "#   # откинуть мелочь\n",
        "#   # найти эталоны\n",
        "#   # откинуть крупные\n",
        "#   # реализуем идею со сравнением площади внутри контура и площади minAreaRect\n",
        "#   areas_diffs = []\n",
        "#   widths = []\n",
        "#   for i, c in enumerate(contours):\n",
        "#     box = cv2.boundingRect(c)\n",
        "#     if box[2] >= side_threshold and box[3] >= side_threshold:\n",
        "#         width = box[2]\n",
        "#         box = bounding_rect_to_contour(box)\n",
        "#         boxes.append((box, i))\n",
        "#         area1 = cv2.contourArea(c)\n",
        "#         area2 = cv2.contourArea(box)\n",
        "#         diff = abs(area1-area2)\n",
        "#         areas_diffs.append((diff, i, area2, width))\n",
        "\n",
        "#   areas_diffs.sort()\n",
        "#   _, idxs, areas, widths = zip(*areas_diffs)\n",
        "#   # print(areas_diffs, standard_idxs)\n",
        "#   # print(standard_idxs, len(boxes), len(contours))\n",
        "#   standards_areas = areas[:4]\n",
        "#   standards =  [(boxes[i], contours[j]) for i, j in enumerate(idxs[:4])]\n",
        "#   standards_mean_side = round(compute_standards_side(standards_areas)) / 10\n",
        "#   print(standards_mean_side)\n",
        "#   crop_idx = 0\n",
        "\n",
        "#   tmp = np.array(widths[4:])\n",
        "#   for i in range(len(widths)-1, -1, -1):\n",
        "#     std_before = tmp.std()\n",
        "#     tmp = np.delete(tmp, -1)\n",
        "#     std_after = tmp.std()\n",
        "#     print(std_before, std_after)\n",
        "#     if abs(std_before - std_after) >= std_threshold:\n",
        "#       print('crop_idx', crop_idx)\n",
        "#       crop_idx = i\n",
        "#       break\n",
        "\n",
        "#   leaves = [(boxes[i+4], contours[j]) for i, j in enumerate(idxs[4:])]\n",
        "#   if crop_idx:\n",
        "#     leaves = leaves[:crop_idx]\n",
        "\n",
        "#   return standards, leaves, standards_mean_side"
      ],
      "metadata": {
        "id": "iceI-Im61E-B"
      },
      "execution_count": null,
      "outputs": []
    },
    {
      "cell_type": "code",
      "source": [
        "# def fill_area_outside_contour(img, contour):\n",
        "#     mask = np.zeros(img.shape[:2], dtype=np.uint8)\n",
        "#     cv2.drawContours(mask, [contour], -1, 255, cv2.FILLED)\n",
        "#     mask_inv = cv2.bitwise_not(mask)\n",
        "#     image_masked = cv2.bitwise_and(img, img, mask=mask)\n",
        "#     # Создание белого фона\n",
        "#     white_background = np.ones_like(elm_img_rgb, dtype=np.uint8) * 255\n",
        "\n",
        "#     # Добавляем белый фон за пределами контуров\n",
        "#     background_masked = cv2.bitwise_and(white_background, white_background, mask=mask_inv)\n",
        "\n",
        "#     # Объединяем контуры с исходным изображением и белый фон\n",
        "#     final_result = cv2.bitwise_or(image_masked, background_masked)\n",
        "#     plt.imshow(final_result)\n",
        "\n",
        "# def fill_outside_contour(image_path, output_path=\"filled_image.jpg\"):\n",
        "#     if contours:\n",
        "#         largest_contour = max(contours, key=cv2.contourArea)\n",
        "#         mask = np.zeros(img.shape[:2], dtype=np.uint8)\n",
        "#         cv2.drawContours(mask, [contour], -1, 255, cv2.FILLED)\n",
        "#         mask_inv = cv2.bitwise_not(mask)\n",
        "#         white_background = np.full(img.shape, (255, 255, 255), dtype=np.uint8)\n",
        "#         masked_img = cv2.bitwise_and(img, img, mask=mask)\n",
        "#         masked_background = cv2.bitwise_and(white_background, white_background, mask=mask_inv)\n",
        "#         result = cv2.bitwise_or(masked_img, masked_background)"
      ],
      "metadata": {
        "id": "d2x-8BNdcCSF"
      },
      "execution_count": null,
      "outputs": []
    },
    {
      "cell_type": "code",
      "source": [
        "# def crop_add_to_matrix(img, x1, y1, x2, y2, padding=100):\n",
        "#     cropped_img = img[y1:y2, x1:x2]\n",
        "#     height, width = cropped_img.shape[:2]\n",
        "#     max_dim = max(height, width) + padding\n",
        "\n",
        "#     white_background = np.full((max_dim, max_dim, 3), 255, dtype=np.uint8)\n",
        "#     x_offset = (max_dim - width) // 2\n",
        "#     y_offset = (max_dim - height) // 2\n",
        "#     white_background[y_offset:y_offset+height,\n",
        "#                      x_offset:x_offset+width] = cropped_img\n",
        "\n",
        "#     return white_background, offset_contour"
      ],
      "metadata": {
        "id": "S3ZfRkkAHmOV"
      },
      "execution_count": null,
      "outputs": []
    },
    {
      "cell_type": "code",
      "source": [],
      "metadata": {
        "id": "bwqqaHZBMeH3"
      },
      "execution_count": null,
      "outputs": []
    },
    {
      "cell_type": "code",
      "source": [
        "# mask = np.zeros(elm_img_rgb.shape[:2], dtype=np.uint8)\n",
        "# cv2.drawContours(mask, cs, 2, 255, cv2.FILLED)\n",
        "# # Инвертирование маски: контуры черные, все остальное - белое\n",
        "# mask_inv = cv2.bitwise_not(mask)\n",
        "\n",
        "# # Сохраняем исходное изображение внутри контуров\n",
        "# image_masked = cv2.bitwise_and(elm_img_rgb, elm_img_rgb, mask=mask)\n",
        "# # Создание белого фона\n",
        "# white_background = np.ones_like(elm_img_rgb, dtype=np.uint8) * 255\n",
        "\n",
        "# # Добавляем белый фон за пределами контуров\n",
        "# background_masked = cv2.bitwise_and(white_background, white_background, mask=mask_inv)\n",
        "\n",
        "# # Объединяем контуры с исходным изображением и белый фон\n",
        "# final_result = cv2.bitwise_or(image_masked, background_masked)\n",
        "# plt.imshow(final_result)"
      ],
      "metadata": {
        "id": "jMPS0GFdVj1_"
      },
      "execution_count": null,
      "outputs": []
    },
    {
      "cell_type": "code",
      "source": [
        "# def load_image_rgb_grayscale(img_path):\n",
        "#   elm_img = cv2.imread(img_path)\n",
        "#   elm_img_rgb = cv2.cvtColor(elm_img, cv2.COLOR_BGR2RGB)\n",
        "#   elm_img_gray = cv2.cvtColor(elm_img, cv2.COLOR_BGR2GRAY)\n",
        "#   return elm_img_rgb, elm_img_gray\n",
        "\n",
        "# def binarize(img):\n",
        "#   _, thresh1 = cv2.threshold(img, 200, 255, cv2.THRESH_BINARY)\n",
        "#   return thresh1\n",
        "\n",
        "# def filter_contours_get_bboxes(contours, side_threshold=100, std_threshold=100):\n",
        "#   boxes = []\n",
        "#   cs = []\n",
        "#   for i, c in enumerate(contours):\n",
        "#     rect = cv2.minAreaRect(c)\n",
        "#     box = cv2.boxPoints(rect).astype(int)\n",
        "#     boxes.append((box, i))\n",
        "\n",
        "#   arr = list(filter(lambda x: x[0][2] >= side_threshold and x[0][3] >= side_threshold, boxes))\n",
        "#   arr = np.array(sorted(arr, key=lambda x: x[0][2], reverse=True))\n",
        "#   standards = arr[-4:]\n",
        "#   widths = arr[:-4, 0, 2]\n",
        "#   crop_idx = 0\n",
        "#   i = 0\n",
        "#   while i < len(arr)-4:\n",
        "#     std_before = widths.std()\n",
        "#     widths.pop(i)\n",
        "#     std_after = widths.std()\n",
        "#     if abs(std_before - std_after) >= std_threshold:\n",
        "#       crop_idx = i\n",
        "#     i += 1\n",
        "\n",
        "#   arr = arr[crop_idx:]\n",
        "#   for v, i in arr:\n",
        "#     cs.append(contours[i])\n",
        "\n",
        "#   return arr, cs\n",
        "\n",
        "\n",
        "\n",
        "# # def filter_contours_get_bboxes(contours):\n",
        "# #   boxes = []\n",
        "# #   for i, c in enumerate(contours):\n",
        "# #     rect = cv2.minAreaRect(c)\n",
        "# #     box = cv2.boxPoints(rect).astype(int)\n",
        "# #     boxes.append((box, i))\n",
        "\n",
        "# #   arr = list(filter(lambda x: x[0][2] >= 100 and x[0][3] >= 100, boxes))\n",
        "# #   arr = np.array(sorted(arr, key=lambda x: x[0][2], reverse=True))\n",
        "# #   standards =\n",
        "# #   indx = np.indmax(arr[:, 0, 2]\n",
        "# #   return\n",
        "\n",
        "# #   bboxes_contours_dict = {x[1]: {'box': x[0]} for x in arr}\n",
        "\n",
        "# #   for i, v in cs:\n",
        "# #     cs.append(contours[i])\n",
        "# #   cs.sort(key=lambda x: x.max(axis=0)[0][1])"
      ],
      "metadata": {
        "id": "YApUy9raJGOQ"
      },
      "execution_count": null,
      "outputs": []
    },
    {
      "cell_type": "markdown",
      "source": [
        "## Решение"
      ],
      "metadata": {
        "id": "Mrnv7GeNNJqn"
      }
    },
    {
      "cell_type": "code",
      "source": [
        "gif_sorting_path = '/content/drive/MyDrive/ecodata/наши статьи/images/gif_sorting'"
      ],
      "metadata": {
        "id": "pKlA9YlNkjIq"
      },
      "execution_count": 12,
      "outputs": []
    },
    {
      "cell_type": "code",
      "source": [
        "img_path = os.path.join(img_folder, img_names[0])\n",
        "elm_img_rgb, elm_img_gray = load_image_rgb_grayscale(img_path)\n",
        "bin_img = binarize(elm_img_gray)\n",
        "eroded_img = erode_dilate_loop(bin_img)\n",
        "contours, _ = cv2.findContours(eroded_img, cv2.RETR_TREE, cv2.CHAIN_APPROX_SIMPLE)\n",
        "standards, leaves, FIRST_STANDARD_1mm = filter_contours_n_bboxes(contours, side_threshold=100, std_threshold=500)\n",
        "standards_bboxes, standards_contours = zip(*standards)\n",
        "leaves_bboxes, leaves_contours = zip(*leaves)\n",
        "# print(len(standards), len(leaves))\n",
        "\n",
        "# tmp = elm_img_rgb.copy()\n",
        "# standards_centroids = bboxes_to_centroids(standards_bboxes)\n",
        "# for c, (cx, cy) in zip(standards_contours, standards_centroids):\n",
        "#     tmp = cv2.circle(tmp, (cx, cy), radius=10, color=(255, 255, 0), thickness=-1)\n",
        "#     tmp = cv2.drawContours(tmp, [c], -1, (255, 0, 0), 5)\n",
        "\n",
        "leaves_centroids = bboxes_to_centroids(leaves_bboxes)\n",
        "# for c, (cx, cy) in zip(leaves_contours, leaves_centroids):\n",
        "#     tmp = cv2.circle(tmp, (cx, cy), radius=20, color=(0, 0, 255), thickness=-1)\n",
        "#     tmp = cv2.drawContours(tmp, [c], -1, (0, 255, 0), 5)\n",
        "#     plt.imshow(tmp)\n",
        "#     plt.show()\n",
        "\n",
        "# cv2.imwrite('centroids_and_contours.jpg', rgb_to_bgr(tmp))\n",
        "\n",
        "neighbours_groups = find_neighbours_groups(leaves_bboxes, leaves_centroids, no_duplicates=False)\n",
        "reduced_neighbours_groups = reduce_neighbours_groups(neighbours_groups).values()\n",
        "print('red', reduced_neighbours_groups)\n",
        "sort_elem_by_cx = lambda pair: pair[0][0]\n",
        "sort_group_by_cy = lambda pair: pair[0][0][1]\n",
        "reduced_neighbours_groups = map(list, reduced_neighbours_groups)\n",
        "print(list(reduced_neighbours_groups))\n",
        "neighbours_sorted = [sorted(el, key=sort_elem_by_cx) for el in reduced_neighbours_groups]\n",
        "print(neighbours_sorted)\n",
        "neighbours_sorted.sort(key=sort_group_by_cy)\n",
        "idxs = []\n",
        "for k, group in neighbours_sorted.items():\n",
        "    # [((cx11, cy21), 0), ((cx12, cy22), 1), ...]s\n",
        "    for (centroid, i) in group:\n",
        "        idxs.append(i)\n",
        "print(*neighbours_sorted.items(), sep='\\n')\n",
        "print(idxs)\n",
        "# for group, value in neighbours_groups:\n",
        "standards_contours, standards_bboxes = sort_bboxes_n_contours_left_to_right_get_bboxes(standards_contours,\n",
        "                                                                                                 standards_bboxes)\n",
        "\n",
        "\n",
        "leaves_contours, leaves_bboxes = sort_bboxes_n_contours_left_to_right_get_bboxes(leaves_contours,\n",
        "                                                                                               leaves_bboxes)\n",
        "# print(leaves_bboxes[0])\n",
        "for contour, bbox in zip(leaves_contours, leaves_bboxes):\n",
        "    plt.imshow(cv2.drawContours(elm_img_rgb, contour, -1, (255, 0, 0), 5))\n",
        "    plt.show()\n",
        "    # x1, y1 = bbox[0][0]\n",
        "    # x2, y2 = bbox[2][0]\n",
        "    # leaf_white_bg, transformed_leaf_contour = crop_add_to_matrix_with_contour_transform(elm_img_rgb,\n",
        "                                                                                    # x1, y1, x2, y2, contour, padding=100)\n",
        "    # plt.imshow(cv2.drawContours(elm_img_rgb, [transformed_leaf_contour], -1, (255, 0, 0), 5))\n",
        "    # plt.show()\n",
        "    # plt.imshow(leaf_white_bg)\n",
        "    # plt.show()\n",
        "    # leaf_white_bg = rotate_image_and_fill(leaf_white_bg, transformed_leaf_contour)\n",
        "    # plt.imshow(leaf_white_bg)\n",
        "    # plt.show()\n"
      ],
      "metadata": {
        "id": "BHjjRZ3l6y-i",
        "colab": {
          "base_uri": "https://localhost:8080/",
          "height": 294
        },
        "outputId": "e4e37ea3-633a-4bfc-e438-69545a1e646f"
      },
      "execution_count": 45,
      "outputs": [
        {
          "output_type": "stream",
          "name": "stdout",
          "text": [
            "red dict_values([{((1910, 1772), 0), ((480, 1731), 6), ((1532, 1666), 2)}, {((537, 534), 9), ((1037, 449), 1)}, {((741, 1198), 4), ((1823, 1087), 5)}, {((1857, 2557), 3), ((1512, 2492), 11), ((1090, 2424), 7)}])\n",
            "[[((1910, 1772), 0), ((480, 1731), 6), ((1532, 1666), 2)], [((537, 534), 9), ((1037, 449), 1)], [((741, 1198), 4), ((1823, 1087), 5)], [((1857, 2557), 3), ((1512, 2492), 11), ((1090, 2424), 7)]]\n",
            "[]\n"
          ]
        },
        {
          "output_type": "error",
          "ename": "AttributeError",
          "evalue": "'list' object has no attribute 'items'",
          "traceback": [
            "\u001b[0;31m---------------------------------------------------------------------------\u001b[0m",
            "\u001b[0;31mAttributeError\u001b[0m                            Traceback (most recent call last)",
            "\u001b[0;32m<ipython-input-45-cdeec94c262b>\u001b[0m in \u001b[0;36m<cell line: 0>\u001b[0;34m()\u001b[0m\n\u001b[1;32m     35\u001b[0m \u001b[0mneighbours_sorted\u001b[0m\u001b[0;34m.\u001b[0m\u001b[0msort\u001b[0m\u001b[0;34m(\u001b[0m\u001b[0mkey\u001b[0m\u001b[0;34m=\u001b[0m\u001b[0msort_group_by_cy\u001b[0m\u001b[0;34m)\u001b[0m\u001b[0;34m\u001b[0m\u001b[0;34m\u001b[0m\u001b[0m\n\u001b[1;32m     36\u001b[0m \u001b[0midxs\u001b[0m \u001b[0;34m=\u001b[0m \u001b[0;34m[\u001b[0m\u001b[0;34m]\u001b[0m\u001b[0;34m\u001b[0m\u001b[0;34m\u001b[0m\u001b[0m\n\u001b[0;32m---> 37\u001b[0;31m \u001b[0;32mfor\u001b[0m \u001b[0mk\u001b[0m\u001b[0;34m,\u001b[0m \u001b[0mgroup\u001b[0m \u001b[0;32min\u001b[0m \u001b[0mneighbours_sorted\u001b[0m\u001b[0;34m.\u001b[0m\u001b[0mitems\u001b[0m\u001b[0;34m(\u001b[0m\u001b[0;34m)\u001b[0m\u001b[0;34m:\u001b[0m\u001b[0;34m\u001b[0m\u001b[0;34m\u001b[0m\u001b[0m\n\u001b[0m\u001b[1;32m     38\u001b[0m     \u001b[0;31m# [((cx11, cy21), 0), ((cx12, cy22), 1), ...]\u001b[0m\u001b[0;34m\u001b[0m\u001b[0;34m\u001b[0m\u001b[0m\n\u001b[1;32m     39\u001b[0m     \u001b[0;32mfor\u001b[0m \u001b[0;34m(\u001b[0m\u001b[0mcentroid\u001b[0m\u001b[0;34m,\u001b[0m \u001b[0mi\u001b[0m\u001b[0;34m)\u001b[0m \u001b[0;32min\u001b[0m \u001b[0mgroup\u001b[0m\u001b[0;34m:\u001b[0m\u001b[0;34m\u001b[0m\u001b[0;34m\u001b[0m\u001b[0m\n",
            "\u001b[0;31mAttributeError\u001b[0m: 'list' object has no attribute 'items'"
          ]
        }
      ]
    },
    {
      "cell_type": "code",
      "source": [
        "# выделить лист\n",
        "# убрать черешокы\n",
        "# посчитать длину, оценить ширину, площадь."
      ],
      "metadata": {
        "id": "cxgSQldJ6yXt"
      },
      "execution_count": null,
      "outputs": []
    },
    {
      "cell_type": "code",
      "source": [
        "contours[3]"
      ],
      "metadata": {
        "colab": {
          "base_uri": "https://localhost:8080/"
        },
        "id": "JILZtSjsmvQR",
        "outputId": "5637fde9-4498-4ed1-e5c5-195c8101e8ae"
      },
      "execution_count": null,
      "outputs": [
        {
          "output_type": "execute_result",
          "data": {
            "text/plain": [
              "array([[[ 247, 2905]],\n",
              "\n",
              "       [[ 351, 2905]],\n",
              "\n",
              "       [[ 352, 2906]],\n",
              "\n",
              "       [[ 363, 2906]],\n",
              "\n",
              "       [[ 364, 2907]],\n",
              "\n",
              "       [[ 364, 2911]],\n",
              "\n",
              "       [[ 365, 2912]],\n",
              "\n",
              "       [[ 365, 2972]],\n",
              "\n",
              "       [[ 364, 2973]],\n",
              "\n",
              "       [[ 364, 2983]],\n",
              "\n",
              "       [[ 365, 2984]],\n",
              "\n",
              "       [[ 364, 2985]],\n",
              "\n",
              "       [[ 364, 2990]],\n",
              "\n",
              "       [[ 365, 2991]],\n",
              "\n",
              "       [[ 364, 2992]],\n",
              "\n",
              "       [[ 364, 2997]],\n",
              "\n",
              "       [[ 365, 2998]],\n",
              "\n",
              "       [[ 365, 3000]],\n",
              "\n",
              "       [[ 364, 3001]],\n",
              "\n",
              "       [[ 364, 3007]],\n",
              "\n",
              "       [[ 365, 3008]],\n",
              "\n",
              "       [[ 364, 3009]],\n",
              "\n",
              "       [[ 364, 3015]],\n",
              "\n",
              "       [[ 365, 3016]],\n",
              "\n",
              "       [[ 365, 3022]],\n",
              "\n",
              "       [[ 364, 3023]],\n",
              "\n",
              "       [[ 364, 3024]],\n",
              "\n",
              "       [[ 363, 3025]],\n",
              "\n",
              "       [[ 352, 3025]],\n",
              "\n",
              "       [[ 351, 3026]],\n",
              "\n",
              "       [[ 350, 3025]],\n",
              "\n",
              "       [[ 345, 3025]],\n",
              "\n",
              "       [[ 344, 3026]],\n",
              "\n",
              "       [[ 337, 3026]],\n",
              "\n",
              "       [[ 336, 3025]],\n",
              "\n",
              "       [[ 328, 3025]],\n",
              "\n",
              "       [[ 327, 3026]],\n",
              "\n",
              "       [[ 322, 3026]],\n",
              "\n",
              "       [[ 321, 3025]],\n",
              "\n",
              "       [[ 312, 3025]],\n",
              "\n",
              "       [[ 311, 3026]],\n",
              "\n",
              "       [[ 310, 3025]],\n",
              "\n",
              "       [[ 303, 3025]],\n",
              "\n",
              "       [[ 302, 3026]],\n",
              "\n",
              "       [[ 301, 3025]],\n",
              "\n",
              "       [[ 296, 3025]],\n",
              "\n",
              "       [[ 295, 3026]],\n",
              "\n",
              "       [[ 279, 3026]],\n",
              "\n",
              "       [[ 278, 3025]],\n",
              "\n",
              "       [[ 273, 3025]],\n",
              "\n",
              "       [[ 272, 3026]],\n",
              "\n",
              "       [[ 271, 3026]],\n",
              "\n",
              "       [[ 270, 3025]],\n",
              "\n",
              "       [[ 247, 3025]],\n",
              "\n",
              "       [[ 246, 3024]],\n",
              "\n",
              "       [[ 246, 3012]],\n",
              "\n",
              "       [[ 245, 3011]],\n",
              "\n",
              "       [[ 245, 2907]]], dtype=int32)"
            ]
          },
          "metadata": {},
          "execution_count": 17
        }
      ]
    },
    {
      "cell_type": "code",
      "source": [
        "thresh1 = np.where(eroded_image == 255, 1, 0)"
      ],
      "metadata": {
        "id": "_x0gWE1sK_5S",
        "colab": {
          "base_uri": "https://localhost:8080/",
          "height": 141
        },
        "outputId": "5a1ca831-8992-4d2a-861c-c0c27ccee43d"
      },
      "execution_count": null,
      "outputs": [
        {
          "output_type": "error",
          "ename": "NameError",
          "evalue": "name 'eroded_image' is not defined",
          "traceback": [
            "\u001b[0;31m---------------------------------------------------------------------------\u001b[0m",
            "\u001b[0;31mNameError\u001b[0m                                 Traceback (most recent call last)",
            "\u001b[0;32m<ipython-input-18-0e0a79e96753>\u001b[0m in \u001b[0;36m<cell line: 0>\u001b[0;34m()\u001b[0m\n\u001b[0;32m----> 1\u001b[0;31m \u001b[0mthresh1\u001b[0m \u001b[0;34m=\u001b[0m \u001b[0mnp\u001b[0m\u001b[0;34m.\u001b[0m\u001b[0mwhere\u001b[0m\u001b[0;34m(\u001b[0m\u001b[0meroded_image\u001b[0m \u001b[0;34m==\u001b[0m \u001b[0;36m255\u001b[0m\u001b[0;34m,\u001b[0m \u001b[0;36m1\u001b[0m\u001b[0;34m,\u001b[0m \u001b[0;36m0\u001b[0m\u001b[0;34m)\u001b[0m\u001b[0;34m\u001b[0m\u001b[0;34m\u001b[0m\u001b[0m\n\u001b[0m",
            "\u001b[0;31mNameError\u001b[0m: name 'eroded_image' is not defined"
          ]
        }
      ]
    },
    {
      "cell_type": "code",
      "source": [
        "mask = np.zeros(elm_img_rgb.shape[:2], dtype=np.uint8)\n",
        "cv2.drawContours(mask, cs, 2, 255, cv2.FILLED)\n",
        "# Инвертирование маски: контуры черные, все остальное - белое\n",
        "mask_inv = cv2.bitwise_not(mask)\n",
        "\n",
        "# Сохраняем исходное изображение внутри контуров\n",
        "image_masked = cv2.bitwise_and(elm_img_rgb, elm_img_rgb, mask=mask)\n",
        "# Создание белого фона\n",
        "white_background = np.ones_like(elm_img_rgb, dtype=np.uint8) * 255\n",
        "\n",
        "# Добавляем белый фон за пределами контуров\n",
        "background_masked = cv2.bitwise_and(white_background, white_background, mask=mask_inv)\n",
        "\n",
        "# Объединяем контуры с исходным изображением и белый фон\n",
        "final_result = cv2.bitwise_or(image_masked, background_masked)\n",
        "plt.imshow(final_result)"
      ],
      "metadata": {
        "id": "fS6yCldXuBBL"
      },
      "execution_count": null,
      "outputs": []
    },
    {
      "cell_type": "code",
      "source": [
        "dst = elm_img_rgb.copy()"
      ],
      "metadata": {
        "id": "eeYQKMIWMEZi"
      },
      "execution_count": null,
      "outputs": []
    },
    {
      "cell_type": "code",
      "source": [
        "x, y = np.where(thresh1 != 0)\n",
        "pts = zip(x, y)\n",
        "for pt in pts:\n",
        "   dst[pt] = (255, 255, 255)"
      ],
      "metadata": {
        "id": "nucW87SNLhhx"
      },
      "execution_count": null,
      "outputs": []
    },
    {
      "cell_type": "code",
      "source": [
        "plt.imshow(dst)"
      ],
      "metadata": {
        "id": "RUnYJLMBMTwx"
      },
      "execution_count": null,
      "outputs": []
    },
    {
      "cell_type": "code",
      "source": [
        "cv2.imwrite('turcz_bin.jpg', cv2.cvtColor(dst, cv2.COLOR_BGR2RGB))"
      ],
      "metadata": {
        "id": "Jfj4yfrPMlfM"
      },
      "execution_count": null,
      "outputs": []
    },
    {
      "cell_type": "code",
      "source": [],
      "metadata": {
        "id": "JZHXYWoqKLE-"
      },
      "execution_count": null,
      "outputs": []
    },
    {
      "cell_type": "code",
      "source": [
        "print(len(contours))"
      ],
      "metadata": {
        "id": "fftu_WtRghu4"
      },
      "execution_count": null,
      "outputs": []
    },
    {
      "cell_type": "code",
      "source": [
        "plt.imshow(cv2.drawContours(elm_img_rgb, contours, -1, (0,255,0), 5))"
      ],
      "metadata": {
        "id": "WApZANcHgP5g"
      },
      "execution_count": null,
      "outputs": []
    },
    {
      "cell_type": "code",
      "source": [
        "tmp = eroded_img.copy()"
      ],
      "metadata": {
        "id": "62sSXsV_mZVn"
      },
      "execution_count": null,
      "outputs": []
    },
    {
      "cell_type": "code",
      "source": [
        "[3, 20, 19, 2]"
      ],
      "metadata": {
        "id": "U8A1TPrOnWiM"
      },
      "execution_count": null,
      "outputs": []
    },
    {
      "cell_type": "code",
      "source": [
        "for i in [3, 20, 19, 2]:\n",
        "  plt.imshow(cv2.drawContours(cv2.cvtColor(tmp, cv2.COLOR_GRAY2RGB), contours, i, (0,255,0), -1))\n",
        "  plt.show()"
      ],
      "metadata": {
        "id": "DWN6d3mjKSik"
      },
      "execution_count": null,
      "outputs": []
    },
    {
      "cell_type": "code",
      "source": [],
      "metadata": {
        "id": "3RR6sTFXKf3g"
      },
      "execution_count": null,
      "outputs": []
    },
    {
      "cell_type": "code",
      "source": [],
      "metadata": {
        "id": "THwar-ptytfF"
      },
      "execution_count": null,
      "outputs": []
    },
    {
      "cell_type": "code",
      "source": [
        "plt.imshow(eroded_image)"
      ],
      "metadata": {
        "id": "eHh3z20R0KzJ"
      },
      "execution_count": null,
      "outputs": []
    },
    {
      "cell_type": "code",
      "source": [
        "contours, hierarchy = cv2.findContours(eroded_image, cv2.RETR_TREE, cv2.CHAIN_APPROX_SIMPLE)"
      ],
      "metadata": {
        "id": "rYorRolyMUJJ"
      },
      "execution_count": null,
      "outputs": []
    },
    {
      "cell_type": "code",
      "source": [],
      "metadata": {
        "id": "b3GtnlTfjVGW"
      },
      "execution_count": null,
      "outputs": []
    },
    {
      "cell_type": "code",
      "source": [],
      "metadata": {
        "id": "g9ZydNHwo7xX"
      },
      "execution_count": null,
      "outputs": []
    },
    {
      "cell_type": "code",
      "source": [
        "plt.imshow(elm_img_rgb)"
      ],
      "metadata": {
        "id": "W4FLbYHn1x9B"
      },
      "execution_count": null,
      "outputs": []
    },
    {
      "cell_type": "code",
      "source": [],
      "metadata": {
        "id": "zI138VKk199O"
      },
      "execution_count": null,
      "outputs": []
    },
    {
      "cell_type": "code",
      "source": [
        "cv2.rectangle(elm_img_rgb, (1397, 1408), (1397+270, 1408+517), (255, 0, 0), 5)"
      ],
      "metadata": {
        "id": "x1ryhr3Jlyzv"
      },
      "execution_count": null,
      "outputs": []
    },
    {
      "cell_type": "code",
      "source": [
        "len(contours)"
      ],
      "metadata": {
        "id": "U6csW5VIjHz_"
      },
      "execution_count": null,
      "outputs": []
    },
    {
      "cell_type": "code",
      "source": [
        "cp = eroded_image.copy()"
      ],
      "metadata": {
        "id": "ohoSo-eKRlp6"
      },
      "execution_count": null,
      "outputs": []
    },
    {
      "cell_type": "code",
      "source": [
        "figure, axes = plt.subplots(1, 3)\n",
        "axes[0].imshow(cv2.drawContours(eroded_image, contours, -1, (156,255,156), 5)[0:1000, 0:750])\n",
        "axes[1].imshow(thresh1[0:1000, 0:750])\n",
        "axes[2].imshow(elm_img[0:1000, 0:750])"
      ],
      "metadata": {
        "id": "dc-v7NZoPKnP"
      },
      "execution_count": null,
      "outputs": []
    },
    {
      "cell_type": "code",
      "source": [
        "plt.imshow(cv2.drawContours(cv2.cvtColor(eroded_image, cv2.COLOR_GRAY2RGB), cs, -1, (0,255,0), -1))"
      ],
      "metadata": {
        "id": "R77PBaAMMxeM"
      },
      "execution_count": null,
      "outputs": []
    },
    {
      "cell_type": "code",
      "source": [],
      "metadata": {
        "id": "bEUTXhchtCJ8"
      },
      "execution_count": null,
      "outputs": []
    },
    {
      "cell_type": "code",
      "source": [
        "import time"
      ],
      "metadata": {
        "id": "vyEsSsB3r9dd"
      },
      "execution_count": null,
      "outputs": []
    },
    {
      "cell_type": "code",
      "source": [],
      "metadata": {
        "id": "epBsqQOksnw8"
      },
      "execution_count": null,
      "outputs": []
    },
    {
      "cell_type": "code",
      "source": [
        "for i in range(len(cs)):\n",
        "  plt.imshow(cv2.drawContours(cv2.cvtColor(eroded_image, cv2.COLOR_GRAY2RGB), cs, i, (0,255,0), -1))\n",
        "  plt.show()\n",
        "  time.sleep(1)"
      ],
      "metadata": {
        "id": "2PyABrRWqYkw"
      },
      "execution_count": null,
      "outputs": []
    },
    {
      "cell_type": "code",
      "source": [],
      "metadata": {
        "id": "nZaj7yJq8Kbr"
      },
      "execution_count": null,
      "outputs": []
    },
    {
      "cell_type": "markdown",
      "source": [],
      "metadata": {
        "id": "UhxvGshW7vrz"
      }
    },
    {
      "cell_type": "code",
      "source": [],
      "metadata": {
        "id": "uJykTwSD6Mel"
      },
      "execution_count": null,
      "outputs": []
    },
    {
      "cell_type": "code",
      "source": [
        " cv2.connectedComponentsWithStats(eroded_image, 4, cv2.CV_32S)"
      ],
      "metadata": {
        "id": "L5gaoj3RKIXF"
      },
      "execution_count": null,
      "outputs": []
    }
  ]
}